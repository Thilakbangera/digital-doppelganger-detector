{
 "cells": [
  {
   "cell_type": "code",
   "execution_count": 1,
   "id": "edd3acea",
   "metadata": {},
   "outputs": [
    {
     "name": "stdout",
     "output_type": "stream",
     "text": [
      "c:\\Detector_ai\\models\\dfdc_deepfake_challenge\n"
     ]
    },
    {
     "name": "stderr",
     "output_type": "stream",
     "text": [
      "fatal: destination path 'dfdc_deepfake_challenge' already exists and is not an empty directory.\n",
      "c:\\Detector_ai\\.venv\\lib\\site-packages\\IPython\\core\\magics\\osm.py:417: UserWarning: using dhist requires you to install the `pickleshare` library.\n",
      "  self.shell.db['dhist'] = compress_dhist(dhist)[-100:]\n"
     ]
    }
   ],
   "source": [
    "!git clone https://github.com/selimsef/dfdc_deepfake_challenge.git\n",
    "%cd dfdc_deepfake_challenge\n"
   ]
  },
  {
   "cell_type": "code",
   "execution_count": 2,
   "id": "8e90154e",
   "metadata": {},
   "outputs": [
    {
     "name": "stdout",
     "output_type": "stream",
     "text": [
      "total 74\n",
      "-rw-r--r-- 1 Thila 197609  2009 Jul 16 19:25 Dockerfile\n",
      "-rw-r--r-- 1 Thila 197609  1094 Jul 16 19:25 LICENSE\n",
      "-rw-r--r-- 1 Thila 197609  8543 Jul 16 19:25 README.md\n",
      "drwxr-xr-x 1 Thila 197609     0 Jul 16 23:39 __pycache__\n",
      "drwxr-xr-x 1 Thila 197609     0 Jul 16 19:25 configs\n",
      "drwxr-xr-x 1 Thila 197609     0 Jul 16 21:01 dfdc_deepfake_challenge\n",
      "-rw-r--r-- 1 Thila 197609  1439 Jul 16 19:25 download_weights.sh\n",
      "drwxr-xr-x 1 Thila 197609     0 Jul 16 19:25 images\n",
      "-rw-r--r-- 1 Thila 197609 14078 Jul 16 19:45 kernel_utils.py\n",
      "drwxr-xr-x 1 Thila 197609     0 Jul 16 19:25 libs\n",
      "drwxr-xr-x 1 Thila 197609     0 Jul 16 19:25 logs\n",
      "-rw-r--r-- 1 Thila 197609  1453 Jul 16 19:25 plot_loss.py\n",
      "-rw-r--r-- 1 Thila 197609  2339 Jul 16 23:22 predict_folder.py\n",
      "-rw-r--r-- 1 Thila 197609   525 Jul 16 19:25 predict_submission.sh\n",
      "-rw-r--r-- 1 Thila 197609   609 Jul 16 19:25 preprocess_data.sh\n",
      "drwxr-xr-x 1 Thila 197609     0 Jul 16 19:25 preprocessing\n",
      "-rw-r--r-- 1 Thila 197609   102 Jul 17 11:15 submission.csv\n",
      "-rwxr-xr-x 1 Thila 197609  1715 Jul 16 19:25 train.sh\n",
      "drwxr-xr-x 1 Thila 197609     0 Jul 16 19:40 training\n",
      "drwxr-xr-x 1 Thila 197609     0 Jul 16 23:44 weights\n"
     ]
    }
   ],
   "source": [
    "!ls -l\n"
   ]
  },
  {
   "cell_type": "code",
   "execution_count": 3,
   "id": "e833fd3c",
   "metadata": {},
   "outputs": [
    {
     "name": "stdout",
     "output_type": "stream",
     "text": [
      "Requirement already satisfied: torch in c:\\detector_ai\\.venv\\lib\\site-packages (2.7.1)\n",
      "Requirement already satisfied: torchvision in c:\\detector_ai\\.venv\\lib\\site-packages (0.22.1)\n",
      "Collecting timm\n",
      "  Downloading timm-1.0.17-py3-none-any.whl (2.5 MB)\n",
      "Collecting facenet-pytorch\n",
      "  Downloading facenet_pytorch-2.6.0-py3-none-any.whl (1.9 MB)\n",
      "Requirement already satisfied: tqdm in c:\\detector_ai\\.venv\\lib\\site-packages (4.67.1)\n",
      "Requirement already satisfied: opencv-python-headless in c:\\detector_ai\\.venv\\lib\\site-packages (4.11.0.86)\n",
      "Requirement already satisfied: networkx in c:\\detector_ai\\.venv\\lib\\site-packages (from torch) (3.2.1)\n",
      "Requirement already satisfied: typing-extensions>=4.10.0 in c:\\detector_ai\\.venv\\lib\\site-packages (from torch) (4.14.1)\n",
      "Requirement already satisfied: jinja2 in c:\\detector_ai\\.venv\\lib\\site-packages (from torch) (3.1.6)\n",
      "Requirement already satisfied: fsspec in c:\\detector_ai\\.venv\\lib\\site-packages (from torch) (2025.7.0)\n",
      "Requirement already satisfied: sympy>=1.13.3 in c:\\detector_ai\\.venv\\lib\\site-packages (from torch) (1.14.0)\n",
      "Requirement already satisfied: filelock in c:\\detector_ai\\.venv\\lib\\site-packages (from torch) (3.18.0)\n",
      "Requirement already satisfied: mpmath<1.4,>=1.1.0 in c:\\detector_ai\\.venv\\lib\\site-packages (from sympy>=1.13.3->torch) (1.3.0)\n",
      "Requirement already satisfied: numpy in c:\\detector_ai\\.venv\\lib\\site-packages (from torchvision) (1.23.5)\n",
      "Requirement already satisfied: pillow!=8.3.*,>=5.3.0 in c:\\detector_ai\\.venv\\lib\\site-packages (from torchvision) (11.3.0)\n",
      "Requirement already satisfied: pyyaml in c:\\detector_ai\\.venv\\lib\\site-packages (from timm) (6.0.2)\n",
      "Requirement already satisfied: safetensors in c:\\detector_ai\\.venv\\lib\\site-packages (from timm) (0.5.3)\n",
      "Requirement already satisfied: huggingface_hub in c:\\detector_ai\\.venv\\lib\\site-packages (from timm) (0.33.4)\n",
      "  Downloading facenet_pytorch-2.5.3-py3-none-any.whl (1.9 MB)\n",
      "Requirement already satisfied: requests in c:\\detector_ai\\.venv\\lib\\site-packages (from facenet-pytorch) (2.32.4)\n",
      "Requirement already satisfied: colorama in c:\\detector_ai\\.venv\\lib\\site-packages (from tqdm) (0.4.6)\n",
      "Requirement already satisfied: packaging>=20.9 in c:\\detector_ai\\.venv\\lib\\site-packages (from huggingface_hub->timm) (25.0)\n",
      "Requirement already satisfied: MarkupSafe>=2.0 in c:\\detector_ai\\.venv\\lib\\site-packages (from jinja2->torch) (3.0.2)\n",
      "Requirement already satisfied: urllib3<3,>=1.21.1 in c:\\detector_ai\\.venv\\lib\\site-packages (from requests->facenet-pytorch) (2.5.0)\n",
      "Requirement already satisfied: charset_normalizer<4,>=2 in c:\\detector_ai\\.venv\\lib\\site-packages (from requests->facenet-pytorch) (3.4.2)\n",
      "Requirement already satisfied: certifi>=2017.4.17 in c:\\detector_ai\\.venv\\lib\\site-packages (from requests->facenet-pytorch) (2025.7.14)\n",
      "Requirement already satisfied: idna<4,>=2.5 in c:\\detector_ai\\.venv\\lib\\site-packages (from requests->facenet-pytorch) (3.10)\n",
      "Installing collected packages: timm, facenet-pytorch\n",
      "Successfully installed facenet-pytorch-2.5.3 timm-1.0.17\n",
      "Collecting numpy==1.23.5"
     ]
    },
    {
     "name": "stderr",
     "output_type": "stream",
     "text": [
      "ERROR: pip's dependency resolver does not currently take into account all the packages that are installed. This behaviour is the source of the following dependency conflicts.\n",
      "tensorflow-intel 2.11.0 requires protobuf<3.20,>=3.9.2, but you have protobuf 3.20.3 which is incompatible.\n"
     ]
    },
    {
     "name": "stdout",
     "output_type": "stream",
     "text": [
      "\n",
      "  Using cached numpy-1.23.5-cp39-cp39-win_amd64.whl (14.7 MB)\n",
      "Installing collected packages: numpy\n",
      "  Attempting uninstall: numpy\n",
      "    Found existing installation: numpy 1.23.5\n",
      "    Uninstalling numpy-1.23.5:\n",
      "      Successfully uninstalled numpy-1.23.5\n",
      "Successfully installed numpy-1.23.5\n",
      "Collecting albumentations==0.4.6\n",
      "  Using cached albumentations-0.4.6-py3-none-any.whl\n",
      "Requirement already satisfied: imgaug in c:\\detector_ai\\.venv\\lib\\site-packages (0.4.0)\n",
      "Requirement already satisfied: PyYAML in c:\\detector_ai\\.venv\\lib\\site-packages (from albumentations==0.4.6) (6.0.2)\n",
      "Requirement already satisfied: opencv-python>=4.1.1 in c:\\detector_ai\\.venv\\lib\\site-packages (from albumentations==0.4.6) (4.11.0.86)\n",
      "Requirement already satisfied: scipy in c:\\detector_ai\\.venv\\lib\\site-packages (from albumentations==0.4.6) (1.13.1)\n",
      "Requirement already satisfied: numpy>=1.11.1 in c:\\detector_ai\\.venv\\lib\\site-packages (from albumentations==0.4.6) (1.23.5)\n",
      "Requirement already satisfied: Pillow in c:\\detector_ai\\.venv\\lib\\site-packages (from imgaug) (11.3.0)\n",
      "Requirement already satisfied: matplotlib in c:\\detector_ai\\.venv\\lib\\site-packages (from imgaug) (3.9.4)\n",
      "Requirement already satisfied: scikit-image>=0.14.2 in c:\\detector_ai\\.venv\\lib\\site-packages (from imgaug) (0.24.0)\n",
      "Requirement already satisfied: imageio in c:\\detector_ai\\.venv\\lib\\site-packages (from imgaug) (2.37.0)\n",
      "Requirement already satisfied: Shapely in c:\\detector_ai\\.venv\\lib\\site-packages (from imgaug) (2.0.7)\n",
      "Requirement already satisfied: six in c:\\detector_ai\\.venv\\lib\\site-packages (from imgaug) (1.17.0)\n",
      "Requirement already satisfied: tifffile>=2022.8.12 in c:\\detector_ai\\.venv\\lib\\site-packages (from scikit-image>=0.14.2->imgaug) (2024.8.30)\n",
      "Requirement already satisfied: packaging>=21 in c:\\detector_ai\\.venv\\lib\\site-packages (from scikit-image>=0.14.2->imgaug) (25.0)\n",
      "Requirement already satisfied: lazy-loader>=0.4 in c:\\detector_ai\\.venv\\lib\\site-packages (from scikit-image>=0.14.2->imgaug) (0.4)\n",
      "Requirement already satisfied: networkx>=2.8 in c:\\detector_ai\\.venv\\lib\\site-packages (from scikit-image>=0.14.2->imgaug) (3.2.1)\n",
      "Requirement already satisfied: importlib-resources>=3.2.0 in c:\\detector_ai\\.venv\\lib\\site-packages (from matplotlib->imgaug) (6.5.2)\n",
      "Requirement already satisfied: fonttools>=4.22.0 in c:\\detector_ai\\.venv\\lib\\site-packages (from matplotlib->imgaug) (4.59.0)\n",
      "Requirement already satisfied: kiwisolver>=1.3.1 in c:\\detector_ai\\.venv\\lib\\site-packages (from matplotlib->imgaug) (1.4.7)\n",
      "Requirement already satisfied: pyparsing>=2.3.1 in c:\\detector_ai\\.venv\\lib\\site-packages (from matplotlib->imgaug) (3.2.3)\n",
      "Requirement already satisfied: contourpy>=1.0.1 in c:\\detector_ai\\.venv\\lib\\site-packages (from matplotlib->imgaug) (1.3.0)\n",
      "Requirement already satisfied: cycler>=0.10 in c:\\detector_ai\\.venv\\lib\\site-packages (from matplotlib->imgaug) (0.12.1)\n",
      "Requirement already satisfied: python-dateutil>=2.7 in c:\\detector_ai\\.venv\\lib\\site-packages (from matplotlib->imgaug) (2.9.0.post0)\n",
      "Requirement already satisfied: zipp>=3.1.0 in c:\\detector_ai\\.venv\\lib\\site-packages (from importlib-resources>=3.2.0->matplotlib->imgaug) (3.23.0)\n",
      "Installing collected packages: albumentations\n",
      "  Attempting uninstall: albumentations\n",
      "    Found existing installation: albumentations 1.3.1\n",
      "    Uninstalling albumentations-1.3.1:\n",
      "      Successfully uninstalled albumentations-1.3.1\n",
      "Successfully installed albumentations-0.4.6\n"
     ]
    }
   ],
   "source": [
    "!pip install torch torchvision timm facenet-pytorch tqdm opencv-python-headless\n",
    "!pip install numpy==1.23.5 --force-reinstall\n",
    "!pip install albumentations==0.4.6 imgaug\n"
   ]
  },
  {
   "cell_type": "code",
   "execution_count": 4,
   "id": "705e5f46",
   "metadata": {},
   "outputs": [
    {
     "name": "stdout",
     "output_type": "stream",
     "text": [
      "Collecting numpy==1.23.5\n",
      "  Using cached numpy-1.23.5-cp39-cp39-win_amd64.whl (14.7 MB)\n",
      "Installing collected packages: numpy\n",
      "  Attempting uninstall: numpy\n",
      "    Found existing installation: numpy 1.23.5\n",
      "    Uninstalling numpy-1.23.5:\n",
      "      Successfully uninstalled numpy-1.23.5\n",
      "Successfully installed numpy-1.23.5\n"
     ]
    },
    {
     "name": "stderr",
     "output_type": "stream",
     "text": [
      "ERROR: pip's dependency resolver does not currently take into account all the packages that are installed. This behaviour is the source of the following dependency conflicts.\n",
      "tensorflow-intel 2.11.0 requires protobuf<3.20,>=3.9.2, but you have protobuf 3.20.3 which is incompatible.\n"
     ]
    }
   ],
   "source": [
    "!pip install numpy==1.23.5 --force-reinstall\n"
   ]
  },
  {
   "cell_type": "code",
   "execution_count": 6,
   "id": "a3f72471",
   "metadata": {},
   "outputs": [
    {
     "data": {
      "text/plain": [
       "CompletedProcess(args=['python', 'predict_folder.py', '--test-dir', 'C:/Detector_ai/test_videos', '--output', 'C:/Detector_ai/models/dfdc_deepfake_challenge/submission.csv', '--models', 'final_111_DeepFakeClassifier_tf_efficientnet_b7_ns_0_36'], returncode=1)"
      ]
     },
     "execution_count": 6,
     "metadata": {},
     "output_type": "execute_result"
    }
   ],
   "source": [
    "import subprocess\n",
    "subprocess.run([\n",
    "    \"python\", \"predict_folder.py\",\n",
    "    \"--test-dir\", \"C:/Detector_ai/test_videos\",\n",
    "    \"--output\", \"C:/Detector_ai/models/dfdc_deepfake_challenge/submission.csv\",\n",
    "    \"--models\", \"final_111_DeepFakeClassifier_tf_efficientnet_b7_ns_0_36\"\n",
    "])\n"
   ]
  },
  {
   "cell_type": "code",
   "execution_count": 7,
   "id": "ab7fca65",
   "metadata": {},
   "outputs": [
    {
     "name": "stdout",
     "output_type": "stream",
     "text": [
      "True\n"
     ]
    }
   ],
   "source": [
    "import os\n",
    "print(os.path.exists(\"submission.csv\"))\n"
   ]
  },
  {
   "cell_type": "code",
   "execution_count": 8,
   "id": "b618f8e4",
   "metadata": {},
   "outputs": [
    {
     "name": "stdout",
     "output_type": "stream",
     "text": [
      "                                            filename  prediction  \\\n",
      "0  C:\\Users\\Thila\\Videos\\Screen Recordings\\Screen...         0.1   \n",
      "\n",
      "  predicted_class  \n",
      "0            Real  \n"
     ]
    }
   ],
   "source": [
    "import pandas as pd\n",
    "\n",
    "df = pd.read_csv(\"C:/Detector_ai/models/dfdc_deepfake_challenge/submission.csv\")\n",
    "df['predicted_class'] = df['label'].apply(lambda x: \"Deepfake\" if x >= 0.5 else \"Real\")\n",
    "df.rename(columns={'label': 'prediction'}, inplace=True)\n",
    "print(df)\n"
   ]
  },
  {
   "cell_type": "code",
   "execution_count": null,
   "id": "c8a95fee",
   "metadata": {},
   "outputs": [],
   "source": []
  },
  {
   "cell_type": "code",
   "execution_count": null,
   "id": "00d471a6",
   "metadata": {},
   "outputs": [],
   "source": []
  }
 ],
 "metadata": {
  "kernelspec": {
   "display_name": ".venv",
   "language": "python",
   "name": "python3"
  },
  "language_info": {
   "codemirror_mode": {
    "name": "ipython",
    "version": 3
   },
   "file_extension": ".py",
   "mimetype": "text/x-python",
   "name": "python",
   "nbconvert_exporter": "python",
   "pygments_lexer": "ipython3",
   "version": "3.9.5"
  }
 },
 "nbformat": 4,
 "nbformat_minor": 5
}
